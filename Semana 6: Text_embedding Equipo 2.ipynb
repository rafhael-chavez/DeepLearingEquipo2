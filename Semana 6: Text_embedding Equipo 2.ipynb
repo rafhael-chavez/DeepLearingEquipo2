{
  "nbformat": 4,
  "nbformat_minor": 0,
  "metadata": {
    "colab": {
      "provenance": []
    },
    "kernelspec": {
      "name": "python3",
      "display_name": "Python 3"
    },
    "language_info": {
      "name": "python"
    }
  },
  "cells": [
    {
      "cell_type": "markdown",
      "source": [
        "# Introducción\n",
        "En este notebook, se implementan y analizan diferentes técnicas de embeddings de texto utilizando reseñas del producto ALEXA de Amazon, entonces como todo proyecto, se tiene que hacer la lectura del archivo así como su posterior, limpieza y luego usar las diferentes técnicas de analisis de texto que se conocen como lo es el TF-IDF, Bag-Of-Words y Word2Vec. Luego de hacer los respectivos analisis con sus diferentes puntos de vista lo que se tiene que hacer es usar una herramienta de ML (en este caso Random Forest) para poder clasificar los sentimientos del dataset y poder ver en que todo fue la reseña, si buena o mala\n",
        "# Objetivo\n",
        "- Comparar las precisiones de los diferentes analizadores de texto (TF-IDF, Bag-of-Words y Word2Vec).\n",
        "- Crear un modelo de ML para hacer predicciones sobre los sentimientos de cada reseña\n",
        "- Entender en que caso es mejor cada uno y como funciona toda la parte del Text Embeddings\n",
        "- Analizar y discutir los resultados obtenidos de cada método y su aplicabilidad en diferentes contextos."
      ],
      "metadata": {
        "id": "KK1md7wKTVTJ"
      }
    },
    {
      "cell_type": "code",
      "execution_count": 29,
      "metadata": {
        "id": "q7v9icvq8T_A"
      },
      "outputs": [],
      "source": [
        "# Importación de la lectura de archivos\n",
        "import pandas as pd"
      ]
    },
    {
      "cell_type": "code",
      "source": [
        "# Lectura del archivo y limitación en cuanto a las columnas para que el código se ejecute adecuadamente\n",
        "df = pd.read_csv('Reviews.csv')\n",
        "df.columns = ['Id', 'ProductId', 'UserId', 'ProfileName', 'HelpfulnessNumerator', 'HelpfulnessDenominator', 'Score', 'Time', 'Summary', 'Text']\n",
        "df = df.head(100000)\n",
        "# Muestra del dataset ya completo y leido\n",
        "print(df.head())\n",
        "print(df.shape)"
      ],
      "metadata": {
        "colab": {
          "base_uri": "https://localhost:8080/"
        },
        "id": "dvNyqPEi9Okv",
        "outputId": "f3e86c8d-0173-4072-b6b2-7057bdbc66aa"
      },
      "execution_count": 30,
      "outputs": [
        {
          "output_type": "stream",
          "name": "stdout",
          "text": [
            "   Id   ProductId          UserId                      ProfileName  \\\n",
            "0   1  B001E4KFG0  A3SGXH7AUHU8GW                       delmartian   \n",
            "1   2  B00813GRG4  A1D87F6ZCVE5NK                           dll pa   \n",
            "2   3  B000LQOCH0   ABXLMWJIXXAIN  Natalia Corres \"Natalia Corres\"   \n",
            "3   4  B000UA0QIQ  A395BORC6FGVXV                             Karl   \n",
            "4   5  B006K2ZZ7K  A1UQRSCLF8GW1T    Michael D. Bigham \"M. Wassir\"   \n",
            "\n",
            "   HelpfulnessNumerator  HelpfulnessDenominator  Score        Time  \\\n",
            "0                     1                       1      5  1303862400   \n",
            "1                     0                       0      1  1346976000   \n",
            "2                     1                       1      4  1219017600   \n",
            "3                     3                       3      2  1307923200   \n",
            "4                     0                       0      5  1350777600   \n",
            "\n",
            "                 Summary                                               Text  \n",
            "0  Good Quality Dog Food  I have bought several of the Vitality canned d...  \n",
            "1      Not as Advertised  Product arrived labeled as Jumbo Salted Peanut...  \n",
            "2  \"Delight\" says it all  This is a confection that has been around a fe...  \n",
            "3         Cough Medicine  If you are looking for the secret ingredient i...  \n",
            "4            Great taffy  Great taffy at a great price.  There was a wid...  \n",
            "(100000, 10)\n"
          ]
        }
      ]
    },
    {
      "cell_type": "code",
      "source": [
        "# Declaración del dataset, para poder usar el TF-IDF y Bag-Of-Word\n",
        "df_review = df[['Score', 'Text']]\n",
        "# Declaración del dataset para el Word2Vec\n",
        "df_review_word2vec = df[['Score', 'Text']]\n",
        "# Limpieza de datos del Score, para cambiarlo a enteros y ajustar las calificaciones de 4 o 5, es bueno y 3 para abajo es malo\n",
        "df_review['Score'] = df_review['Score'].astype(int)\n",
        "df_review['Score'] = df_review['Score'].apply(lambda x: 1 if x > 3 else 0)\n",
        "# Mostrar los datos\n",
        "df_review.head()"
      ],
      "metadata": {
        "colab": {
          "base_uri": "https://localhost:8080/",
          "height": 434
        },
        "id": "MDeo5U8p9pNV",
        "outputId": "390c49ab-fd64-4576-8d30-b96517e01e17"
      },
      "execution_count": 31,
      "outputs": [
        {
          "output_type": "stream",
          "name": "stderr",
          "text": [
            "<ipython-input-31-0a0a6c60bbf8>:6: SettingWithCopyWarning: \n",
            "A value is trying to be set on a copy of a slice from a DataFrame.\n",
            "Try using .loc[row_indexer,col_indexer] = value instead\n",
            "\n",
            "See the caveats in the documentation: https://pandas.pydata.org/pandas-docs/stable/user_guide/indexing.html#returning-a-view-versus-a-copy\n",
            "  df_review['Score'] = df_review['Score'].astype(int)\n",
            "<ipython-input-31-0a0a6c60bbf8>:7: SettingWithCopyWarning: \n",
            "A value is trying to be set on a copy of a slice from a DataFrame.\n",
            "Try using .loc[row_indexer,col_indexer] = value instead\n",
            "\n",
            "See the caveats in the documentation: https://pandas.pydata.org/pandas-docs/stable/user_guide/indexing.html#returning-a-view-versus-a-copy\n",
            "  df_review['Score'] = df_review['Score'].apply(lambda x: 1 if x > 3 else 0)\n"
          ]
        },
        {
          "output_type": "execute_result",
          "data": {
            "text/plain": [
              "   Score                                               Text\n",
              "0      1  I have bought several of the Vitality canned d...\n",
              "1      0  Product arrived labeled as Jumbo Salted Peanut...\n",
              "2      1  This is a confection that has been around a fe...\n",
              "3      0  If you are looking for the secret ingredient i...\n",
              "4      1  Great taffy at a great price.  There was a wid..."
            ],
            "text/html": [
              "\n",
              "  <div id=\"df-ec8280b3-1ded-47fe-a3f5-4fca3a34035c\" class=\"colab-df-container\">\n",
              "    <div>\n",
              "<style scoped>\n",
              "    .dataframe tbody tr th:only-of-type {\n",
              "        vertical-align: middle;\n",
              "    }\n",
              "\n",
              "    .dataframe tbody tr th {\n",
              "        vertical-align: top;\n",
              "    }\n",
              "\n",
              "    .dataframe thead th {\n",
              "        text-align: right;\n",
              "    }\n",
              "</style>\n",
              "<table border=\"1\" class=\"dataframe\">\n",
              "  <thead>\n",
              "    <tr style=\"text-align: right;\">\n",
              "      <th></th>\n",
              "      <th>Score</th>\n",
              "      <th>Text</th>\n",
              "    </tr>\n",
              "  </thead>\n",
              "  <tbody>\n",
              "    <tr>\n",
              "      <th>0</th>\n",
              "      <td>1</td>\n",
              "      <td>I have bought several of the Vitality canned d...</td>\n",
              "    </tr>\n",
              "    <tr>\n",
              "      <th>1</th>\n",
              "      <td>0</td>\n",
              "      <td>Product arrived labeled as Jumbo Salted Peanut...</td>\n",
              "    </tr>\n",
              "    <tr>\n",
              "      <th>2</th>\n",
              "      <td>1</td>\n",
              "      <td>This is a confection that has been around a fe...</td>\n",
              "    </tr>\n",
              "    <tr>\n",
              "      <th>3</th>\n",
              "      <td>0</td>\n",
              "      <td>If you are looking for the secret ingredient i...</td>\n",
              "    </tr>\n",
              "    <tr>\n",
              "      <th>4</th>\n",
              "      <td>1</td>\n",
              "      <td>Great taffy at a great price.  There was a wid...</td>\n",
              "    </tr>\n",
              "  </tbody>\n",
              "</table>\n",
              "</div>\n",
              "    <div class=\"colab-df-buttons\">\n",
              "\n",
              "  <div class=\"colab-df-container\">\n",
              "    <button class=\"colab-df-convert\" onclick=\"convertToInteractive('df-ec8280b3-1ded-47fe-a3f5-4fca3a34035c')\"\n",
              "            title=\"Convert this dataframe to an interactive table.\"\n",
              "            style=\"display:none;\">\n",
              "\n",
              "  <svg xmlns=\"http://www.w3.org/2000/svg\" height=\"24px\" viewBox=\"0 -960 960 960\">\n",
              "    <path d=\"M120-120v-720h720v720H120Zm60-500h600v-160H180v160Zm220 220h160v-160H400v160Zm0 220h160v-160H400v160ZM180-400h160v-160H180v160Zm440 0h160v-160H620v160ZM180-180h160v-160H180v160Zm440 0h160v-160H620v160Z\"/>\n",
              "  </svg>\n",
              "    </button>\n",
              "\n",
              "  <style>\n",
              "    .colab-df-container {\n",
              "      display:flex;\n",
              "      gap: 12px;\n",
              "    }\n",
              "\n",
              "    .colab-df-convert {\n",
              "      background-color: #E8F0FE;\n",
              "      border: none;\n",
              "      border-radius: 50%;\n",
              "      cursor: pointer;\n",
              "      display: none;\n",
              "      fill: #1967D2;\n",
              "      height: 32px;\n",
              "      padding: 0 0 0 0;\n",
              "      width: 32px;\n",
              "    }\n",
              "\n",
              "    .colab-df-convert:hover {\n",
              "      background-color: #E2EBFA;\n",
              "      box-shadow: 0px 1px 2px rgba(60, 64, 67, 0.3), 0px 1px 3px 1px rgba(60, 64, 67, 0.15);\n",
              "      fill: #174EA6;\n",
              "    }\n",
              "\n",
              "    .colab-df-buttons div {\n",
              "      margin-bottom: 4px;\n",
              "    }\n",
              "\n",
              "    [theme=dark] .colab-df-convert {\n",
              "      background-color: #3B4455;\n",
              "      fill: #D2E3FC;\n",
              "    }\n",
              "\n",
              "    [theme=dark] .colab-df-convert:hover {\n",
              "      background-color: #434B5C;\n",
              "      box-shadow: 0px 1px 3px 1px rgba(0, 0, 0, 0.15);\n",
              "      filter: drop-shadow(0px 1px 2px rgba(0, 0, 0, 0.3));\n",
              "      fill: #FFFFFF;\n",
              "    }\n",
              "  </style>\n",
              "\n",
              "    <script>\n",
              "      const buttonEl =\n",
              "        document.querySelector('#df-ec8280b3-1ded-47fe-a3f5-4fca3a34035c button.colab-df-convert');\n",
              "      buttonEl.style.display =\n",
              "        google.colab.kernel.accessAllowed ? 'block' : 'none';\n",
              "\n",
              "      async function convertToInteractive(key) {\n",
              "        const element = document.querySelector('#df-ec8280b3-1ded-47fe-a3f5-4fca3a34035c');\n",
              "        const dataTable =\n",
              "          await google.colab.kernel.invokeFunction('convertToInteractive',\n",
              "                                                    [key], {});\n",
              "        if (!dataTable) return;\n",
              "\n",
              "        const docLinkHtml = 'Like what you see? Visit the ' +\n",
              "          '<a target=\"_blank\" href=https://colab.research.google.com/notebooks/data_table.ipynb>data table notebook</a>'\n",
              "          + ' to learn more about interactive tables.';\n",
              "        element.innerHTML = '';\n",
              "        dataTable['output_type'] = 'display_data';\n",
              "        await google.colab.output.renderOutput(dataTable, element);\n",
              "        const docLink = document.createElement('div');\n",
              "        docLink.innerHTML = docLinkHtml;\n",
              "        element.appendChild(docLink);\n",
              "      }\n",
              "    </script>\n",
              "  </div>\n",
              "\n",
              "\n",
              "<div id=\"df-09dd700b-63fb-45bf-9629-80590c748abc\">\n",
              "  <button class=\"colab-df-quickchart\" onclick=\"quickchart('df-09dd700b-63fb-45bf-9629-80590c748abc')\"\n",
              "            title=\"Suggest charts\"\n",
              "            style=\"display:none;\">\n",
              "\n",
              "<svg xmlns=\"http://www.w3.org/2000/svg\" height=\"24px\"viewBox=\"0 0 24 24\"\n",
              "     width=\"24px\">\n",
              "    <g>\n",
              "        <path d=\"M19 3H5c-1.1 0-2 .9-2 2v14c0 1.1.9 2 2 2h14c1.1 0 2-.9 2-2V5c0-1.1-.9-2-2-2zM9 17H7v-7h2v7zm4 0h-2V7h2v10zm4 0h-2v-4h2v4z\"/>\n",
              "    </g>\n",
              "</svg>\n",
              "  </button>\n",
              "\n",
              "<style>\n",
              "  .colab-df-quickchart {\n",
              "      --bg-color: #E8F0FE;\n",
              "      --fill-color: #1967D2;\n",
              "      --hover-bg-color: #E2EBFA;\n",
              "      --hover-fill-color: #174EA6;\n",
              "      --disabled-fill-color: #AAA;\n",
              "      --disabled-bg-color: #DDD;\n",
              "  }\n",
              "\n",
              "  [theme=dark] .colab-df-quickchart {\n",
              "      --bg-color: #3B4455;\n",
              "      --fill-color: #D2E3FC;\n",
              "      --hover-bg-color: #434B5C;\n",
              "      --hover-fill-color: #FFFFFF;\n",
              "      --disabled-bg-color: #3B4455;\n",
              "      --disabled-fill-color: #666;\n",
              "  }\n",
              "\n",
              "  .colab-df-quickchart {\n",
              "    background-color: var(--bg-color);\n",
              "    border: none;\n",
              "    border-radius: 50%;\n",
              "    cursor: pointer;\n",
              "    display: none;\n",
              "    fill: var(--fill-color);\n",
              "    height: 32px;\n",
              "    padding: 0;\n",
              "    width: 32px;\n",
              "  }\n",
              "\n",
              "  .colab-df-quickchart:hover {\n",
              "    background-color: var(--hover-bg-color);\n",
              "    box-shadow: 0 1px 2px rgba(60, 64, 67, 0.3), 0 1px 3px 1px rgba(60, 64, 67, 0.15);\n",
              "    fill: var(--button-hover-fill-color);\n",
              "  }\n",
              "\n",
              "  .colab-df-quickchart-complete:disabled,\n",
              "  .colab-df-quickchart-complete:disabled:hover {\n",
              "    background-color: var(--disabled-bg-color);\n",
              "    fill: var(--disabled-fill-color);\n",
              "    box-shadow: none;\n",
              "  }\n",
              "\n",
              "  .colab-df-spinner {\n",
              "    border: 2px solid var(--fill-color);\n",
              "    border-color: transparent;\n",
              "    border-bottom-color: var(--fill-color);\n",
              "    animation:\n",
              "      spin 1s steps(1) infinite;\n",
              "  }\n",
              "\n",
              "  @keyframes spin {\n",
              "    0% {\n",
              "      border-color: transparent;\n",
              "      border-bottom-color: var(--fill-color);\n",
              "      border-left-color: var(--fill-color);\n",
              "    }\n",
              "    20% {\n",
              "      border-color: transparent;\n",
              "      border-left-color: var(--fill-color);\n",
              "      border-top-color: var(--fill-color);\n",
              "    }\n",
              "    30% {\n",
              "      border-color: transparent;\n",
              "      border-left-color: var(--fill-color);\n",
              "      border-top-color: var(--fill-color);\n",
              "      border-right-color: var(--fill-color);\n",
              "    }\n",
              "    40% {\n",
              "      border-color: transparent;\n",
              "      border-right-color: var(--fill-color);\n",
              "      border-top-color: var(--fill-color);\n",
              "    }\n",
              "    60% {\n",
              "      border-color: transparent;\n",
              "      border-right-color: var(--fill-color);\n",
              "    }\n",
              "    80% {\n",
              "      border-color: transparent;\n",
              "      border-right-color: var(--fill-color);\n",
              "      border-bottom-color: var(--fill-color);\n",
              "    }\n",
              "    90% {\n",
              "      border-color: transparent;\n",
              "      border-bottom-color: var(--fill-color);\n",
              "    }\n",
              "  }\n",
              "</style>\n",
              "\n",
              "  <script>\n",
              "    async function quickchart(key) {\n",
              "      const quickchartButtonEl =\n",
              "        document.querySelector('#' + key + ' button');\n",
              "      quickchartButtonEl.disabled = true;  // To prevent multiple clicks.\n",
              "      quickchartButtonEl.classList.add('colab-df-spinner');\n",
              "      try {\n",
              "        const charts = await google.colab.kernel.invokeFunction(\n",
              "            'suggestCharts', [key], {});\n",
              "      } catch (error) {\n",
              "        console.error('Error during call to suggestCharts:', error);\n",
              "      }\n",
              "      quickchartButtonEl.classList.remove('colab-df-spinner');\n",
              "      quickchartButtonEl.classList.add('colab-df-quickchart-complete');\n",
              "    }\n",
              "    (() => {\n",
              "      let quickchartButtonEl =\n",
              "        document.querySelector('#df-09dd700b-63fb-45bf-9629-80590c748abc button');\n",
              "      quickchartButtonEl.style.display =\n",
              "        google.colab.kernel.accessAllowed ? 'block' : 'none';\n",
              "    })();\n",
              "  </script>\n",
              "</div>\n",
              "\n",
              "    </div>\n",
              "  </div>\n"
            ],
            "application/vnd.google.colaboratory.intrinsic+json": {
              "type": "dataframe",
              "variable_name": "df_review",
              "summary": "{\n  \"name\": \"df_review\",\n  \"rows\": 100000,\n  \"fields\": [\n    {\n      \"column\": \"Score\",\n      \"properties\": {\n        \"dtype\": \"number\",\n        \"std\": 0,\n        \"min\": 0,\n        \"max\": 1,\n        \"num_unique_values\": 2,\n        \"samples\": [\n          0,\n          1\n        ],\n        \"semantic_type\": \"\",\n        \"description\": \"\"\n      }\n    },\n    {\n      \"column\": \"Text\",\n      \"properties\": {\n        \"dtype\": \"string\",\n        \"num_unique_values\": 88426,\n        \"samples\": [\n          \"I have 6 cats and do cat rescue.  I bought a case, since I mainly only use organic (Newman's Own)canned food for all my cats.  This looked and smelled like human food, but the cats won't touch it.  I left it outside for starving wild cats and THEY would not eat it either.  So buyer beware.  Don't buy a case to start with like I did.  I still have 20 cans left and no one will eat it.\",\n          \"This is the only sesame oil I will use. The aroma, taste, and texture (it's not greasy...) makes the dish what it was intented to be! Where I live it is hard to find Kadoya Sesame Oil so I have to resort to ordering it off line. The 56 oz is only ideal if you cook ALOT...a little of this goes a long way...trust me!\"\n        ],\n        \"semantic_type\": \"\",\n        \"description\": \"\"\n      }\n    }\n  ]\n}"
            }
          },
          "metadata": {},
          "execution_count": 31
        }
      ]
    },
    {
      "cell_type": "markdown",
      "source": [
        "# TF-IDF"
      ],
      "metadata": {
        "id": "7u9q8BhN-6aA"
      }
    },
    {
      "cell_type": "code",
      "source": [
        "# Implementación de las librerías necesarias para evaluar el modelo con TF-IDF\n",
        "from sklearn.feature_extraction.text import TfidfVectorizer\n",
        "from sklearn.model_selection import train_test_split\n",
        "from sklearn.ensemble import RandomForestClassifier\n",
        "from sklearn.metrics import accuracy_score, classification_report\n",
        "\n",
        "# Asignar lo que son los features y labels en el modelo del Random Forest\n",
        "X = df_review['Text']\n",
        "y = df_review['Score']\n",
        "\n",
        "# Dividir el conjunto de datos en entrenamiento y prueba\n",
        "X_train, X_test, y_train, y_test = train_test_split(X, y, test_size=0.2, random_state=42)\n",
        "\n",
        "# Usar la Vectorización TF-IDF para prueba del primer modelo\n",
        "vectorizer = TfidfVectorizer(max_features=5000, stop_words='english')\n",
        "X_train_tfidf = vectorizer.fit_transform(X_train)\n",
        "X_test_tfidf = vectorizer.transform(X_test)\n",
        "\n",
        "# Usar el modelo del Random Forest para clasificar lo que son los comentarios entre buenos y malos\n",
        "rf_model = RandomForestClassifier(random_state=42)\n",
        "rf_model.fit(X_train_tfidf, y_train)\n",
        "\n",
        "# Evaluación del modelo haciendo predicciones y viendo su resultado en la precisión\n",
        "y_pred = rf_model.predict(X_test_tfidf)\n",
        "\n",
        "# Ver el rendimiento del modelo\n",
        "accuracy = accuracy_score(y_test, y_pred)\n",
        "classification_rep = classification_report(y_test, y_pred, target_names=['Malo', 'Bueno'])\n",
        "\n",
        "# Mostar los resultados del modelo tanto en su precisión como en los demás scores\n",
        "print(\"Precisión del modelo:\", accuracy)\n",
        "print(\"\\nReporte de clasificación:\\n\", classification_rep)"
      ],
      "metadata": {
        "colab": {
          "base_uri": "https://localhost:8080/"
        },
        "id": "lECswn_8-vt6",
        "outputId": "5a05666d-4f5a-4fab-a4da-d4b407825dcc"
      },
      "execution_count": 32,
      "outputs": [
        {
          "output_type": "stream",
          "name": "stdout",
          "text": [
            "Precisión del modelo: 0.87155\n",
            "\n",
            "Reporte de clasificación:\n",
            "               precision    recall  f1-score   support\n",
            "\n",
            "        Malo       0.89      0.50      0.64      4595\n",
            "       Bueno       0.87      0.98      0.92     15405\n",
            "\n",
            "    accuracy                           0.87     20000\n",
            "   macro avg       0.88      0.74      0.78     20000\n",
            "weighted avg       0.87      0.87      0.86     20000\n",
            "\n"
          ]
        }
      ]
    },
    {
      "cell_type": "markdown",
      "source": [
        "# Bag-of-Words(BOW)"
      ],
      "metadata": {
        "id": "uDNizu7X_gHP"
      }
    },
    {
      "cell_type": "code",
      "source": [
        "# Implementación de las librerías para el uso del Bag-Of-Words\n",
        "from sklearn.feature_extraction.text import CountVectorizer\n",
        "\n",
        "# Usar el modelo de Vectorización Bag-of-Words para la evaluación del modelo\n",
        "vectorizer = CountVectorizer(max_features=5000, stop_words='english')\n",
        "X_train_bow = vectorizer.fit_transform(X_train)\n",
        "X_test_bow = vectorizer.transform(X_test)\n",
        "\n",
        "# Usar el modelo del Random Forest para clasificar lo que son los comentarios entre buenos y malos\n",
        "rf_model = RandomForestClassifier(random_state=42)\n",
        "rf_model.fit(X_train_bow, y_train)\n",
        "\n",
        "# Evaluación del modelo haciendo predicciones y viendo su resultado en la precisión\n",
        "y_pred = rf_model.predict(X_test_bow)\n",
        "\n",
        "# Ver el rendimiento del modelo\n",
        "accuracy = accuracy_score(y_test, y_pred)\n",
        "classification_rep = classification_report(y_test, y_pred, target_names=['Malo', 'Bueno'])\n",
        "\n",
        "# Mostar los resultados del modelo tanto en su precisión como en los demás scores\n",
        "print(\"Precisión del modelo:\", accuracy)\n",
        "print(\"\\nReporte de clasificación:\\n\", classification_rep)"
      ],
      "metadata": {
        "colab": {
          "base_uri": "https://localhost:8080/"
        },
        "id": "7lcpdF05GZMN",
        "outputId": "ae9eb23e-57fe-42ee-9580-6fd89b5b7b14"
      },
      "execution_count": 33,
      "outputs": [
        {
          "output_type": "stream",
          "name": "stdout",
          "text": [
            "Precisión del modelo: 0.8716\n",
            "\n",
            "Reporte de clasificación:\n",
            "               precision    recall  f1-score   support\n",
            "\n",
            "        Malo       0.87      0.52      0.65      4595\n",
            "       Bueno       0.87      0.98      0.92     15405\n",
            "\n",
            "    accuracy                           0.87     20000\n",
            "   macro avg       0.87      0.75      0.79     20000\n",
            "weighted avg       0.87      0.87      0.86     20000\n",
            "\n"
          ]
        }
      ]
    },
    {
      "cell_type": "markdown",
      "source": [
        "# Word2Vec"
      ],
      "metadata": {
        "id": "qy5aufhV_otK"
      }
    },
    {
      "cell_type": "code",
      "source": [
        "pip install gensim"
      ],
      "metadata": {
        "colab": {
          "base_uri": "https://localhost:8080/"
        },
        "id": "BL9sj3xWG9Sr",
        "outputId": "b3af43f4-9006-4868-eb12-3fa3f140e19e"
      },
      "execution_count": 34,
      "outputs": [
        {
          "output_type": "stream",
          "name": "stdout",
          "text": [
            "Requirement already satisfied: gensim in /usr/local/lib/python3.10/dist-packages (4.3.3)\n",
            "Requirement already satisfied: numpy<2.0,>=1.18.5 in /usr/local/lib/python3.10/dist-packages (from gensim) (1.26.4)\n",
            "Requirement already satisfied: scipy<1.14.0,>=1.7.0 in /usr/local/lib/python3.10/dist-packages (from gensim) (1.13.1)\n",
            "Requirement already satisfied: smart-open>=1.8.1 in /usr/local/lib/python3.10/dist-packages (from gensim) (7.0.5)\n",
            "Requirement already satisfied: wrapt in /usr/local/lib/python3.10/dist-packages (from smart-open>=1.8.1->gensim) (1.16.0)\n"
          ]
        }
      ]
    },
    {
      "cell_type": "code",
      "source": [
        "# Implementación de la librería para poder usar el Word2Vec\n",
        "from gensim.models import Word2Vec\n",
        "import numpy as np\n",
        "\n",
        "# Preprocesar el texto para Word2Vec, convertir los datos a minuscula y dividirlo por espacios\n",
        "X_train_word2vec = X_train.str.lower().str.split()\n",
        "X_test_word2vec = X_test.str.lower().str.split()\n",
        "\n",
        "# Se utiliza el modelo Word2Vec para hacer un analisis de las palabras\n",
        "model_w2v = Word2Vec(sentences=X_train_word2vec, vector_size=100, window=5, min_count=1, workers=4)\n",
        "\n",
        "# Función para obtener el vector promedio de una reseña\n",
        "def get_vector(text):\n",
        "    vectors = []\n",
        "    for word in text:\n",
        "        if word in model_w2v.wv:\n",
        "            vectors.append(model_w2v.wv[word])\n",
        "    if vectors:\n",
        "        return np.mean(vectors, axis=0)\n",
        "    else:\n",
        "        return np.zeros(model_w2v.vector_size)\n",
        "\n",
        "# Obtener los vectores para cada reseña\n",
        "X_train_w2v = np.array([get_vector(text) for text in X_train_word2vec])\n",
        "X_test_w2v = np.array([get_vector(text) for text in X_test_word2vec])\n",
        "y_train_w2v = y_train.values\n",
        "y_test_w2v = y_test.values\n",
        "\n",
        "# Usar el modelo del Random Forest para clasificar lo que son los comentarios entre buenos y malos\n",
        "rf_model_w2v = RandomForestClassifier(random_state=42)\n",
        "rf_model_w2v.fit(X_train_w2v, y_train_w2v)\n",
        "\n",
        "# Evaluación del modelo haciendo predicciones y viendo su resultado en la precisión\n",
        "y_pred_w2v = rf_model_w2v.predict(X_test_w2v)\n",
        "\n",
        "# Ver el rendimiento del modeloo\n",
        "accuracy_w2v = accuracy_score(y_test_w2v, y_pred_w2v)\n",
        "classification_rep_w2v = classification_report(y_test_w2v, y_pred_w2v, target_names=['Malo', 'Bueno'])\n",
        "\n",
        "# Mostar los resultados del modelo tanto en su precisión como en los demás scores\n",
        "print(\"--------------------------------------------------------\")\n",
        "print(\"Precisión del modelo:\", accuracy)\n",
        "print(\"\\nReporte de clasificación:\\n\", classification_rep)"
      ],
      "metadata": {
        "colab": {
          "base_uri": "https://localhost:8080/"
        },
        "id": "g_xsxIi9HJwo",
        "outputId": "b236d59b-81c6-4220-df5d-c1f3f46de4b4"
      },
      "execution_count": 35,
      "outputs": [
        {
          "output_type": "stream",
          "name": "stdout",
          "text": [
            "--------------------------------------------------------\n",
            "Precisión del modelo: 0.8716\n",
            "\n",
            "Reporte de clasificación:\n",
            "               precision    recall  f1-score   support\n",
            "\n",
            "        Malo       0.87      0.52      0.65      4595\n",
            "       Bueno       0.87      0.98      0.92     15405\n",
            "\n",
            "    accuracy                           0.87     20000\n",
            "   macro avg       0.87      0.75      0.79     20000\n",
            "weighted avg       0.87      0.87      0.86     20000\n",
            "\n"
          ]
        }
      ]
    },
    {
      "cell_type": "markdown",
      "source": [
        "# Conclusión\n",
        "En este caso se puede analizar que los resultados en los diferentes usos de los analizadores de texto son bastante parecidos con diferencias muy mínimas.\n",
        "- TF-IDF: Precisión 87.155%\n",
        "- Bag-Of-Words: Precisión 87.16%\n",
        "- Word2Vec: Precisión 87.16%\n",
        "\n",
        "Esto lo lograron incluso limitando el dataset ya que se se hubiera analizado los 568456 registros que eran puede que esto pueda llegar a variar. Se puede ver que practicamente sacaron los mismos resultados, usando los mismo datos de entrenamiento y de prueba. Esto puede deberse para lo que es el modelo de ML, ya que usamos el Random Forest lo que los puede llegar a hacer muy eficientes, inclusive si contamos con las diferentes formas en que se analizaron los textos, realmente son resultados muy aceptables que no tienden al overfiting, pero si desconocemos como realizo el árbol para cada uno de los casos, puede que sean arboles demasiado complejos que por eso saca la presición que saca.\n",
        "\n",
        "Independiemnte del caso en está ocasión por la naturaleza del problema y tal vez la limitación del dataset, se puede ver que los diferentes analizadores de texto sacaron, una precisión igual, y buena en este caso.\n",
        "\n",
        "Independientemente del caso, por la naturaleza del problema y la limitación del dataset, se observa que los diferentes analizadores de texto obtuvieron una precisión similar y aceptable. Además, dado que las reseñas se relacionan con el mismo producto, puede haber una falta de variedad en las descripciones, lo que contribuyó a resultados similares."
      ],
      "metadata": {
        "id": "vxYEcbt5UpWc"
      }
    }
  ]
}
